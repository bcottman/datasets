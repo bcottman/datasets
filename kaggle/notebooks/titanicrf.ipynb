{
 "cells": [
  {
   "cell_type": "markdown",
   "id": "fec64422",
   "metadata": {
    "ExecuteTime": {
     "end_time": "2022-12-31T23:12:31.532812Z",
     "start_time": "2022-12-31T23:12:31.395605Z"
    }
   },
   "source": [
    "### Step 1. Get  a Kaggle API key."
   ]
  },
  {
   "cell_type": "markdown",
   "id": "d68040dc",
   "metadata": {
    "ExecuteTime": {
     "end_time": "2022-12-31T23:12:31.784021Z",
     "start_time": "2022-12-31T23:12:31.537645Z"
    }
   },
   "source": [
    "### Step 2. Place (download) the Kaggle API key on your local platform."
   ]
  },
  {
   "cell_type": "markdown",
   "id": "9b3a5b95",
   "metadata": {},
   "source": [
    "### Step 3. Install the Kaggle API client and authenicate"
   ]
  },
  {
   "cell_type": "code",
   "execution_count": 3,
   "id": "f674a4e4",
   "metadata": {
    "ExecuteTime": {
     "end_time": "2022-12-31T23:12:32.991489Z",
     "start_time": "2022-12-31T23:12:31.787912Z"
    }
   },
   "outputs": [
    {
     "name": "stdout",
     "output_type": "stream",
     "text": [
      "Requirement already satisfied: kaggle in /Users/brucecottman/.pyenv/versions/3.10.1/lib/python3.10/site-packages (1.5.12)\n",
      "Requirement already satisfied: six>=1.10 in /Users/brucecottman/.pyenv/versions/3.10.1/lib/python3.10/site-packages (from kaggle) (1.16.0)\n",
      "Requirement already satisfied: certifi in /Users/brucecottman/.pyenv/versions/3.10.1/lib/python3.10/site-packages (from kaggle) (2022.12.7)\n",
      "Requirement already satisfied: python-dateutil in /Users/brucecottman/.pyenv/versions/3.10.1/lib/python3.10/site-packages (from kaggle) (2.8.2)\n",
      "Requirement already satisfied: requests in /Users/brucecottman/.pyenv/versions/3.10.1/lib/python3.10/site-packages (from kaggle) (2.28.1)\n",
      "Requirement already satisfied: tqdm in /Users/brucecottman/.pyenv/versions/3.10.1/lib/python3.10/site-packages (from kaggle) (4.64.1)\n",
      "Requirement already satisfied: python-slugify in /Users/brucecottman/.pyenv/versions/3.10.1/lib/python3.10/site-packages (from kaggle) (7.0.0)\n",
      "Requirement already satisfied: urllib3 in /Users/brucecottman/.pyenv/versions/3.10.1/lib/python3.10/site-packages (from kaggle) (1.26.13)\n",
      "Requirement already satisfied: text-unidecode>=1.3 in /Users/brucecottman/.pyenv/versions/3.10.1/lib/python3.10/site-packages (from python-slugify->kaggle) (1.3)\n",
      "Requirement already satisfied: charset-normalizer<3,>=2 in /Users/brucecottman/.pyenv/versions/3.10.1/lib/python3.10/site-packages (from requests->kaggle) (2.1.1)\n",
      "Requirement already satisfied: idna<4,>=2.5 in /Users/brucecottman/.pyenv/versions/3.10.1/lib/python3.10/site-packages (from requests->kaggle) (3.4)\n",
      "\u001b[33mWARNING: You are using pip version 21.2.4; however, version 22.3.1 is available.\n",
      "You should consider upgrading via the '/Users/brucecottman/.pyenv/versions/3.10.1/bin/python3.10 -m pip install --upgrade pip' command.\u001b[0m\n"
     ]
    }
   ],
   "source": [
    "# install the kaggle package\n",
    "!pip install kaggle\n",
    "import kaggle\n"
   ]
  },
  {
   "cell_type": "code",
   "execution_count": null,
   "id": "7d535374",
   "metadata": {},
   "outputs": [],
   "source": [
    "### KPI Authenication"
   ]
  },
  {
   "cell_type": "code",
   "execution_count": 4,
   "id": "8a1c32c5",
   "metadata": {
    "ExecuteTime": {
     "end_time": "2022-12-31T23:12:33.111390Z",
     "start_time": "2022-12-31T23:12:32.996959Z"
    },
    "scrolled": true
   },
   "outputs": [
    {
     "name": "stdout",
     "output_type": "stream",
     "text": [
      "Warning: Your Kaggle API key is readable by other users on this system! To fix this, you can run 'chmod 600 /Users/brucecottman/.kaggle/kaggle.json'\n",
      "Warning: Your Kaggle API key is readable by other users on this system! To fix this, you can run 'chmod 600 /Users/brucecottman/.kaggle/kaggle.json'\n"
     ]
    }
   ],
   "source": [
    "\n",
    "# Warning: Your Kaggle API key is readable by other users on this system! \n",
    "# To fix this, you can run\n",
    "#!chmod 006 /Users/brucecottman/.kaggle/kaggle.json'\n",
    "\n",
    "\n",
    "# Load the API credentials\n",
    "kaggle.api.authenticate()"
   ]
  },
  {
   "cell_type": "markdown",
   "id": "ea23e167",
   "metadata": {
    "ExecuteTime": {
     "end_time": "2023-01-01T00:04:33.353553Z",
     "start_time": "2023-01-01T00:04:33.350502Z"
    }
   },
   "source": [
    "### Step 4. Retrieve the Kaggle dataset"
   ]
  },
  {
   "cell_type": "code",
   "execution_count": 5,
   "id": "339cd3a4",
   "metadata": {
    "ExecuteTime": {
     "end_time": "2022-12-31T23:12:33.247733Z",
     "start_time": "2022-12-31T23:12:33.114850Z"
    }
   },
   "outputs": [
    {
     "name": "stdout",
     "output_type": "stream",
     "text": [
      "Current working directory /Users/brucecottman/Documents/PROJECTS/datasets/kaggle\n",
      "/Users/brucecottman/Documents/PROJECTS/datasets/kaggle/datasets\r\n"
     ]
    }
   ],
   "source": [
    "import os\n",
    "# Check current working directory and then put dl datasets at '/datasets'\n",
    "os.chdir('..')\n",
    "pathtopwd = os.getcwd()\n",
    "print( \"Current working directory %s\" % pathtopwd)\n",
    "# set to subdirectory datasets\n",
    "os.chdir(pathtopwd+'/'+'datasets')\n",
    "!pwd"
   ]
  },
  {
   "cell_type": "code",
   "execution_count": 7,
   "id": "b1130d82",
   "metadata": {
    "ExecuteTime": {
     "end_time": "2022-12-31T23:12:34.708809Z",
     "start_time": "2022-12-31T23:12:33.385330Z"
    }
   },
   "outputs": [
    {
     "name": "stdout",
     "output_type": "stream",
     "text": [
      "Warning: Your Kaggle API key is readable by other users on this system! To fix this, you can run 'chmod 600 /Users/brucecottman/.kaggle/kaggle.json'\n",
      "titanic.zip: Skipping, found more recently modified local copy (use --force to force download)\n"
     ]
    }
   ],
   "source": [
    "!kaggle competitions download -c titanic\n"
   ]
  },
  {
   "cell_type": "code",
   "execution_count": 8,
   "id": "d441a411",
   "metadata": {
    "ExecuteTime": {
     "end_time": "2022-12-31T23:12:34.721486Z",
     "start_time": "2022-12-31T23:12:34.712576Z"
    }
   },
   "outputs": [],
   "source": [
    "import zipfile\n",
    "strfile = 'titanic.zip'\n",
    "zip_ref = zipfile.ZipFile(strfile, 'r')\n",
    "zip_ref.extractall('.')\n"
   ]
  },
  {
   "cell_type": "markdown",
   "id": "a5036039",
   "metadata": {
    "ExecuteTime": {
     "end_time": "2022-12-31T23:12:34.728305Z",
     "start_time": "2022-12-31T23:12:34.724949Z"
    }
   },
   "source": [
    "### A solution to the Kaggle dataset"
   ]
  },
  {
   "cell_type": "code",
   "execution_count": 11,
   "id": "d00cb40f",
   "metadata": {
    "ExecuteTime": {
     "end_time": "2022-12-31T23:12:36.095318Z",
     "start_time": "2022-12-31T23:12:34.741590Z"
    }
   },
   "outputs": [],
   "source": [
    "# Import necessary libraries\n",
    "\n",
    "import pandas as pd\n",
    "from sklearn.ensemble import RandomForestClassifier\n",
    "from sklearn.preprocessing import LabelEncoder\n",
    "\n",
    "# Load the training data\n",
    "train_data = pd.read_csv(\"train.csv\")\n",
    "\n",
    "# Drop unnecessary columns and rows with missing values\n",
    "train_data.drop([\"Name\", \"Ticket\", \"Cabin\"], axis=1, inplace=True)\n",
    "train_data.dropna(inplace=True)\n",
    "\n",
    "# Encode categorical variables as integers\n",
    "# Convert categorical variables to numeric\n",
    "train_data[\"Sex\"] = train_data[\"Sex\"].map({'male': 0, 'female': 1})\n",
    "train_data['Embarked'] = train_data['Embarked'].map({'S': 0, 'C': 1, 'Q': 2})\n",
    "#le = LabelEncoder()\n",
    "#train_data[\"Sex\"] = le.fit_transform(train_data[\"Sex\"])\n",
    "#train_data[\"Embarked\"] = le.fit_transform(train_data[\"Embarked\"])\n",
    "\n",
    "# Split the data into features and labels\n",
    "X = train_data.drop(\"Survived\", axis=1)\n",
    "y = train_data[\"Survived\"]\n",
    "\n",
    "# Train the model\n",
    "model = RandomForestClassifier(n_estimators=100)\n",
    "model.fit(X, y)\n",
    "\n",
    "# Load the test data\n",
    "test_data = pd.read_csv(\"test.csv\")\n",
    "\n",
    "# Drop unnecessary columns and rows with missing values\n",
    "test_data.drop([\"Name\", \"Ticket\", \"Cabin\"], axis=1, inplace=True)\n",
    "test_data.fillna(method=\"ffill\", inplace=True)\n",
    "\n",
    "# Encode categorical variables as integers\n",
    "test_data[\"Sex\"] = test_data[\"Sex\"].map({'male': 0, 'female': 1})\n",
    "test_data['Embarked'] = test_data['Embarked'].map({'S': 0, 'C': 1, 'Q': 2})\n",
    "#test_data[\"Sex\"] = le.transform(test_data[\"Sex\"])\n",
    "#test_data[\"Embarked\"] = le.transform(test_data[\"Embarked\"])\n",
    "\n",
    "# Make predictions using the trained model\n",
    "predictions = model.predict(test_data)\n",
    "\n"
   ]
  },
  {
   "cell_type": "markdown",
   "id": "6e85643d",
   "metadata": {
    "ExecuteTime": {
     "end_time": "2023-01-01T00:01:03.811739Z",
     "start_time": "2023-01-01T00:01:03.808382Z"
    }
   },
   "source": [
    "### Step 5. Submit the solution file to Kaggle."
   ]
  },
  {
   "cell_type": "code",
   "execution_count": 12,
   "id": "4b30fb2a",
   "metadata": {
    "ExecuteTime": {
     "end_time": "2022-12-31T23:12:36.232586Z",
     "start_time": "2022-12-31T23:12:36.098719Z"
    }
   },
   "outputs": [
    {
     "name": "stdout",
     "output_type": "stream",
     "text": [
      "/Users/brucecottman/Documents/PROJECTS/datasets/kaggle/submissions\r\n"
     ]
    }
   ],
   "source": [
    "# Change submision file directory to '../submissions'\n",
    "os.chdir('../'+'submissions')\n",
    "!pwd"
   ]
  },
  {
   "cell_type": "code",
   "execution_count": 14,
   "id": "8ba8d04e",
   "metadata": {
    "ExecuteTime": {
     "end_time": "2022-12-31T23:15:10.979140Z",
     "start_time": "2022-12-31T23:15:10.967789Z"
    }
   },
   "outputs": [],
   "source": [
    "# Save the predictions to a CSV file\n",
    "submission = pd.DataFrame({\"PassengerId\": test_data[\"PassengerId\"], \"Survived\": predictions})\n",
    "submission.to_csv(\"submission.csv\", index=False)"
   ]
  },
  {
   "cell_type": "markdown",
   "id": "57348d51",
   "metadata": {},
   "source": []
  },
  {
   "cell_type": "code",
   "execution_count": 15,
   "id": "99a7be6a",
   "metadata": {
    "ExecuteTime": {
     "end_time": "2022-12-31T23:15:19.881669Z",
     "start_time": "2022-12-31T23:15:17.567292Z"
    }
   },
   "outputs": [
    {
     "name": "stdout",
     "output_type": "stream",
     "text": [
      "Warning: Your Kaggle API key is readable by other users on this system! To fix this, you can run 'chmod 600 /Users/brucecottman/.kaggle/kaggle.json'\n",
      "100%|██████████████████████████████████████| 2.77k/2.77k [00:00<00:00, 5.28kB/s]\n",
      "Successfully submitted to Titanic - Machine Learning from Disaster"
     ]
    }
   ],
   "source": [
    "# Set the competition and file name\n",
    "competition = \"titanic\"\n",
    "filename = \"submission.csv\"\n",
    "!kaggle competitions submit titanic -f submission.csv -m 'My submission for'"
   ]
  },
  {
   "cell_type": "markdown",
   "id": "8dc7c62a",
   "metadata": {
    "ExecuteTime": {
     "end_time": "2022-12-31T23:59:23.892935Z",
     "start_time": "2022-12-31T23:59:23.889133Z"
    }
   },
   "source": [
    "### Retrieve the score of the solution submitted to Kaggle."
   ]
  },
  {
   "cell_type": "code",
   "execution_count": 16,
   "id": "6c411fdd",
   "metadata": {
    "ExecuteTime": {
     "end_time": "2022-12-31T23:15:24.807939Z",
     "start_time": "2022-12-31T23:15:23.751999Z"
    }
   },
   "outputs": [
    {
     "name": "stdout",
     "output_type": "stream",
     "text": [
      "Warning: Your Kaggle API key is readable by other users on this system! To fix this, you can run 'chmod 600 /Users/brucecottman/.kaggle/kaggle.json'\n",
      "fileName           date                 description        status    publicScore  privateScore  \n",
      "-----------------  -------------------  -----------------  --------  -----------  ------------  \n",
      "submission.csv     2022-12-31 23:15:18  My submission for  complete  0.76315                    \n",
      "submissionxgb.csv  2022-12-31 20:34:44  My submission for  complete  0.00000                    \n",
      "submission.csv     2022-12-31 20:31:46  My submission for  complete  0.75119                    \n",
      "submission.csv     2022-12-31 20:30:42  My submission for  complete  0.75119                    \n",
      "submission.csv     2022-12-30 00:55:37  My submission for  complete  0.00000                    \n",
      "submission.csv     2022-12-30 00:54:37  My submission for  complete  0.76076                    \n",
      "submission.csv     2022-12-30 00:49:38  My submission for  complete  0.00000                    \n",
      "submission.csv     2022-12-30 00:47:32  My submission for  complete  0.75119                    \n",
      "submission.csv     2022-12-30 00:20:59  My submission for  complete  0.77033                    \n",
      "submission.csv     2022-12-29 22:29:37  My submission for  complete  0.76794                    \n",
      "submission.csv     2022-12-29 22:28:06  My submission for  complete  0.76794                    \n"
     ]
    }
   ],
   "source": [
    "# list your submissions\n",
    "!kaggle competitions submissions titanic\n"
   ]
  },
  {
   "cell_type": "code",
   "execution_count": null,
   "id": "aa6b7d03",
   "metadata": {
    "ExecuteTime": {
     "end_time": "2022-12-31T23:12:36.252199Z",
     "start_time": "2022-12-31T23:12:36.252176Z"
    }
   },
   "outputs": [],
   "source": [
    "#submit"
   ]
  },
  {
   "cell_type": "code",
   "execution_count": null,
   "id": "3ab1a766",
   "metadata": {
    "ExecuteTime": {
     "end_time": "2022-12-31T23:12:36.254564Z",
     "start_time": "2022-12-31T23:12:36.254540Z"
    }
   },
   "outputs": [],
   "source": [
    "# Set the competition and file name\n",
    "competition = \"titanic\"\n",
    "filename = \"submissionxgb.csv\"\n",
    "!kaggle competitions submit titanic -f submissionxgb.csv -m 'My submission for'\n",
    "# list your submissions\n",
    "!kaggle competitions submissions titanic"
   ]
  },
  {
   "cell_type": "code",
   "execution_count": null,
   "id": "7a867f62",
   "metadata": {},
   "outputs": [],
   "source": []
  }
 ],
 "metadata": {
  "hide_input": false,
  "kernelspec": {
   "display_name": "Python 3 (ipykernel)",
   "language": "python",
   "name": "python3"
  },
  "language_info": {
   "codemirror_mode": {
    "name": "ipython",
    "version": 3
   },
   "file_extension": ".py",
   "mimetype": "text/x-python",
   "name": "python",
   "nbconvert_exporter": "python",
   "pygments_lexer": "ipython3",
   "version": "3.7.2"
  },
  "toc": {
   "base_numbering": 1,
   "nav_menu": {},
   "number_sections": true,
   "sideBar": true,
   "skip_h1_title": false,
   "title_cell": "Table of Contents",
   "title_sidebar": "Contents",
   "toc_cell": false,
   "toc_position": {},
   "toc_section_display": true,
   "toc_window_display": false
  }
 },
 "nbformat": 4,
 "nbformat_minor": 5
}
